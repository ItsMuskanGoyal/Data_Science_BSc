{
 "cells": [
  {
   "cell_type": "code",
   "execution_count": 4,
   "metadata": {
    "execution": {
     "iopub.execute_input": "2021-09-24T05:54:22.453451Z",
     "iopub.status.busy": "2021-09-24T05:54:22.453084Z",
     "iopub.status.idle": "2021-09-24T05:54:24.914055Z",
     "shell.execute_reply": "2021-09-24T05:54:24.913102Z",
     "shell.execute_reply.started": "2021-09-24T05:54:22.453366Z"
    },
    "trusted": true
   },
   "outputs": [],
   "source": [
    "# libraries\n",
    "import pandas as pd\n",
    "import matplotlib.pyplot as plt\n",
    "%matplotlib inline\n",
    "import seaborn as sns\n",
    "import os\n",
    "import numpy as np\n",
    "import time\n",
    "# import lightgbm as lgb\n",
    "\n",
    "from sklearn.model_selection import GroupKFold\n",
    "from sklearn import metrics"
   ]
  },
  {
   "cell_type": "code",
   "execution_count": 22,
   "metadata": {},
   "outputs": [],
   "source": [
    "from sklearn.ensemble import HistGradientBoostingRegressor"
   ]
  },
  {
   "cell_type": "code",
   "execution_count": 27,
   "metadata": {},
   "outputs": [],
   "source": [
    "# import lightgbm as lgb\n",
    "\n",
    "# import lightgbm as lgb\n",
    "# print(lgb.__version__)\n"
   ]
  },
  {
   "cell_type": "markdown",
   "metadata": {},
   "source": [
    "## Data loading and overview"
   ]
  },
  {
   "cell_type": "code",
   "execution_count": null,
   "metadata": {
    "execution": {
     "iopub.execute_input": "2021-09-24T05:54:24.915926Z",
     "iopub.status.busy": "2021-09-24T05:54:24.915698Z",
     "iopub.status.idle": "2021-09-24T05:54:40.205544Z",
     "shell.execute_reply": "2021-09-24T05:54:40.20437Z",
     "shell.execute_reply.started": "2021-09-24T05:54:24.915902Z"
    },
    "trusted": true
   },
   "outputs": [],
   "source": [
    "# path = '../input/ventilator-pressure-prediction'\n",
    "# train = pd.read_csv(os.path.join(path, 'train.csv'))\n",
    "# test = pd.read_csv(os.path.join(path, 'test.csv'))\n",
    "# sub = pd.read_csv(os.path.join(path, 'sample_submission.csv'))"
   ]
  },
  {
   "cell_type": "code",
   "execution_count": 6,
   "metadata": {},
   "outputs": [],
   "source": [
    "train = pd.read_csv(\"train.csv\")\n",
    "test = pd.read_csv(\"test.csv\")\n",
    "sub = pd.read_csv(\"sample_submission.csv\")"
   ]
  },
  {
   "cell_type": "code",
   "execution_count": 8,
   "metadata": {
    "execution": {
     "iopub.execute_input": "2021-09-24T05:54:40.207688Z",
     "iopub.status.busy": "2021-09-24T05:54:40.207117Z",
     "iopub.status.idle": "2021-09-24T05:54:40.228138Z",
     "shell.execute_reply": "2021-09-24T05:54:40.227331Z",
     "shell.execute_reply.started": "2021-09-24T05:54:40.207653Z"
    },
    "trusted": true
   },
   "outputs": [
    {
     "data": {
      "text/html": [
       "<div>\n",
       "<style scoped>\n",
       "    .dataframe tbody tr th:only-of-type {\n",
       "        vertical-align: middle;\n",
       "    }\n",
       "\n",
       "    .dataframe tbody tr th {\n",
       "        vertical-align: top;\n",
       "    }\n",
       "\n",
       "    .dataframe thead th {\n",
       "        text-align: right;\n",
       "    }\n",
       "</style>\n",
       "<table border=\"1\" class=\"dataframe\">\n",
       "  <thead>\n",
       "    <tr style=\"text-align: right;\">\n",
       "      <th></th>\n",
       "      <th>id</th>\n",
       "      <th>breath_id</th>\n",
       "      <th>R</th>\n",
       "      <th>C</th>\n",
       "      <th>time_step</th>\n",
       "      <th>u_in</th>\n",
       "      <th>u_out</th>\n",
       "      <th>pressure</th>\n",
       "    </tr>\n",
       "  </thead>\n",
       "  <tbody>\n",
       "    <tr>\n",
       "      <th>0</th>\n",
       "      <td>1</td>\n",
       "      <td>1</td>\n",
       "      <td>20</td>\n",
       "      <td>50</td>\n",
       "      <td>0.000000</td>\n",
       "      <td>0.083334</td>\n",
       "      <td>0</td>\n",
       "      <td>5.837492</td>\n",
       "    </tr>\n",
       "    <tr>\n",
       "      <th>1</th>\n",
       "      <td>2</td>\n",
       "      <td>1</td>\n",
       "      <td>20</td>\n",
       "      <td>50</td>\n",
       "      <td>0.033652</td>\n",
       "      <td>18.383041</td>\n",
       "      <td>0</td>\n",
       "      <td>5.907794</td>\n",
       "    </tr>\n",
       "    <tr>\n",
       "      <th>2</th>\n",
       "      <td>3</td>\n",
       "      <td>1</td>\n",
       "      <td>20</td>\n",
       "      <td>50</td>\n",
       "      <td>0.067514</td>\n",
       "      <td>22.509278</td>\n",
       "      <td>0</td>\n",
       "      <td>7.876254</td>\n",
       "    </tr>\n",
       "    <tr>\n",
       "      <th>3</th>\n",
       "      <td>4</td>\n",
       "      <td>1</td>\n",
       "      <td>20</td>\n",
       "      <td>50</td>\n",
       "      <td>0.101542</td>\n",
       "      <td>22.808822</td>\n",
       "      <td>0</td>\n",
       "      <td>11.742872</td>\n",
       "    </tr>\n",
       "    <tr>\n",
       "      <th>4</th>\n",
       "      <td>5</td>\n",
       "      <td>1</td>\n",
       "      <td>20</td>\n",
       "      <td>50</td>\n",
       "      <td>0.135756</td>\n",
       "      <td>25.355850</td>\n",
       "      <td>0</td>\n",
       "      <td>12.234987</td>\n",
       "    </tr>\n",
       "  </tbody>\n",
       "</table>\n",
       "</div>"
      ],
      "text/plain": [
       "   id  breath_id   R   C  time_step       u_in  u_out   pressure\n",
       "0   1          1  20  50   0.000000   0.083334      0   5.837492\n",
       "1   2          1  20  50   0.033652  18.383041      0   5.907794\n",
       "2   3          1  20  50   0.067514  22.509278      0   7.876254\n",
       "3   4          1  20  50   0.101542  22.808822      0  11.742872\n",
       "4   5          1  20  50   0.135756  25.355850      0  12.234987"
      ]
     },
     "execution_count": 8,
     "metadata": {},
     "output_type": "execute_result"
    }
   ],
   "source": [
    "train.head()"
   ]
  },
  {
   "cell_type": "code",
   "execution_count": 9,
   "metadata": {
    "execution": {
     "iopub.execute_input": "2021-09-24T05:54:40.230573Z",
     "iopub.status.busy": "2021-09-24T05:54:40.230318Z",
     "iopub.status.idle": "2021-09-24T05:54:41.585595Z",
     "shell.execute_reply": "2021-09-24T05:54:41.58475Z",
     "shell.execute_reply.started": "2021-09-24T05:54:40.230544Z"
    },
    "trusted": true
   },
   "outputs": [
    {
     "data": {
      "text/html": [
       "<div>\n",
       "<style scoped>\n",
       "    .dataframe tbody tr th:only-of-type {\n",
       "        vertical-align: middle;\n",
       "    }\n",
       "\n",
       "    .dataframe tbody tr th {\n",
       "        vertical-align: top;\n",
       "    }\n",
       "\n",
       "    .dataframe thead th {\n",
       "        text-align: right;\n",
       "    }\n",
       "</style>\n",
       "<table border=\"1\" class=\"dataframe\">\n",
       "  <thead>\n",
       "    <tr style=\"text-align: right;\">\n",
       "      <th></th>\n",
       "      <th>id</th>\n",
       "      <th>breath_id</th>\n",
       "      <th>R</th>\n",
       "      <th>C</th>\n",
       "      <th>time_step</th>\n",
       "      <th>u_in</th>\n",
       "      <th>u_out</th>\n",
       "      <th>pressure</th>\n",
       "    </tr>\n",
       "  </thead>\n",
       "  <tbody>\n",
       "    <tr>\n",
       "      <th>count</th>\n",
       "      <td>6.036000e+06</td>\n",
       "      <td>6.036000e+06</td>\n",
       "      <td>6.036000e+06</td>\n",
       "      <td>6.036000e+06</td>\n",
       "      <td>6.036000e+06</td>\n",
       "      <td>6.036000e+06</td>\n",
       "      <td>6.036000e+06</td>\n",
       "      <td>6.036000e+06</td>\n",
       "    </tr>\n",
       "    <tr>\n",
       "      <th>mean</th>\n",
       "      <td>3.018000e+06</td>\n",
       "      <td>6.283886e+04</td>\n",
       "      <td>2.703618e+01</td>\n",
       "      <td>2.608072e+01</td>\n",
       "      <td>1.307225e+00</td>\n",
       "      <td>7.321615e+00</td>\n",
       "      <td>6.204493e-01</td>\n",
       "      <td>1.122041e+01</td>\n",
       "    </tr>\n",
       "    <tr>\n",
       "      <th>std</th>\n",
       "      <td>1.742443e+06</td>\n",
       "      <td>3.633526e+04</td>\n",
       "      <td>1.959549e+01</td>\n",
       "      <td>1.715231e+01</td>\n",
       "      <td>7.659778e-01</td>\n",
       "      <td>1.343470e+01</td>\n",
       "      <td>4.852752e-01</td>\n",
       "      <td>8.109703e+00</td>\n",
       "    </tr>\n",
       "    <tr>\n",
       "      <th>min</th>\n",
       "      <td>1.000000e+00</td>\n",
       "      <td>1.000000e+00</td>\n",
       "      <td>5.000000e+00</td>\n",
       "      <td>1.000000e+01</td>\n",
       "      <td>0.000000e+00</td>\n",
       "      <td>0.000000e+00</td>\n",
       "      <td>0.000000e+00</td>\n",
       "      <td>-1.895744e+00</td>\n",
       "    </tr>\n",
       "    <tr>\n",
       "      <th>25%</th>\n",
       "      <td>1.509001e+06</td>\n",
       "      <td>3.137700e+04</td>\n",
       "      <td>5.000000e+00</td>\n",
       "      <td>1.000000e+01</td>\n",
       "      <td>6.428995e-01</td>\n",
       "      <td>3.936623e-01</td>\n",
       "      <td>0.000000e+00</td>\n",
       "      <td>6.329607e+00</td>\n",
       "    </tr>\n",
       "    <tr>\n",
       "      <th>50%</th>\n",
       "      <td>3.018000e+06</td>\n",
       "      <td>6.276550e+04</td>\n",
       "      <td>2.000000e+01</td>\n",
       "      <td>2.000000e+01</td>\n",
       "      <td>1.308123e+00</td>\n",
       "      <td>4.386146e+00</td>\n",
       "      <td>1.000000e+00</td>\n",
       "      <td>7.032628e+00</td>\n",
       "    </tr>\n",
       "    <tr>\n",
       "      <th>75%</th>\n",
       "      <td>4.527000e+06</td>\n",
       "      <td>9.430100e+04</td>\n",
       "      <td>5.000000e+01</td>\n",
       "      <td>5.000000e+01</td>\n",
       "      <td>1.965502e+00</td>\n",
       "      <td>4.983895e+00</td>\n",
       "      <td>1.000000e+00</td>\n",
       "      <td>1.364103e+01</td>\n",
       "    </tr>\n",
       "    <tr>\n",
       "      <th>max</th>\n",
       "      <td>6.036000e+06</td>\n",
       "      <td>1.257490e+05</td>\n",
       "      <td>5.000000e+01</td>\n",
       "      <td>5.000000e+01</td>\n",
       "      <td>2.937238e+00</td>\n",
       "      <td>1.000000e+02</td>\n",
       "      <td>1.000000e+00</td>\n",
       "      <td>6.482099e+01</td>\n",
       "    </tr>\n",
       "  </tbody>\n",
       "</table>\n",
       "</div>"
      ],
      "text/plain": [
       "                 id     breath_id             R             C     time_step  \\\n",
       "count  6.036000e+06  6.036000e+06  6.036000e+06  6.036000e+06  6.036000e+06   \n",
       "mean   3.018000e+06  6.283886e+04  2.703618e+01  2.608072e+01  1.307225e+00   \n",
       "std    1.742443e+06  3.633526e+04  1.959549e+01  1.715231e+01  7.659778e-01   \n",
       "min    1.000000e+00  1.000000e+00  5.000000e+00  1.000000e+01  0.000000e+00   \n",
       "25%    1.509001e+06  3.137700e+04  5.000000e+00  1.000000e+01  6.428995e-01   \n",
       "50%    3.018000e+06  6.276550e+04  2.000000e+01  2.000000e+01  1.308123e+00   \n",
       "75%    4.527000e+06  9.430100e+04  5.000000e+01  5.000000e+01  1.965502e+00   \n",
       "max    6.036000e+06  1.257490e+05  5.000000e+01  5.000000e+01  2.937238e+00   \n",
       "\n",
       "               u_in         u_out      pressure  \n",
       "count  6.036000e+06  6.036000e+06  6.036000e+06  \n",
       "mean   7.321615e+00  6.204493e-01  1.122041e+01  \n",
       "std    1.343470e+01  4.852752e-01  8.109703e+00  \n",
       "min    0.000000e+00  0.000000e+00 -1.895744e+00  \n",
       "25%    3.936623e-01  0.000000e+00  6.329607e+00  \n",
       "50%    4.386146e+00  1.000000e+00  7.032628e+00  \n",
       "75%    4.983895e+00  1.000000e+00  1.364103e+01  \n",
       "max    1.000000e+02  1.000000e+00  6.482099e+01  "
      ]
     },
     "execution_count": 9,
     "metadata": {},
     "output_type": "execute_result"
    }
   ],
   "source": [
    "train.describe()"
   ]
  },
  {
   "cell_type": "markdown",
   "metadata": {},
   "source": [
    "The dataset is quite large - more than 6 mln rows. There are 2 categorical features (R and C), the id of a row, the id of a breath, timestamp and continuous variables."
   ]
  },
  {
   "cell_type": "code",
   "execution_count": 10,
   "metadata": {
    "execution": {
     "iopub.execute_input": "2021-09-24T05:54:41.58695Z",
     "iopub.status.busy": "2021-09-24T05:54:41.586739Z",
     "iopub.status.idle": "2021-09-24T05:54:41.803174Z",
     "shell.execute_reply": "2021-09-24T05:54:41.802287Z",
     "shell.execute_reply.started": "2021-09-24T05:54:41.586925Z"
    },
    "trusted": true
   },
   "outputs": [
    {
     "name": "stdout",
     "output_type": "stream",
     "text": [
      "set()\n",
      "set()\n"
     ]
    }
   ],
   "source": [
    "print(set(test['breath_id'].unique()).intersection(set(train['breath_id'].unique())))\n",
    "print(set(train['breath_id'].unique()).intersection(set(test['breath_id'].unique())))"
   ]
  },
  {
   "cell_type": "markdown",
   "metadata": {},
   "source": [
    "Here is a very **important** point:\n",
    "The breath ids in train and test don't overlap! This means we should use GroupKFold validation using this variable."
   ]
  },
  {
   "cell_type": "code",
   "execution_count": 11,
   "metadata": {
    "execution": {
     "iopub.execute_input": "2021-09-24T05:54:41.804397Z",
     "iopub.status.busy": "2021-09-24T05:54:41.804165Z",
     "iopub.status.idle": "2021-09-24T05:54:43.844075Z",
     "shell.execute_reply": "2021-09-24T05:54:43.843549Z",
     "shell.execute_reply.started": "2021-09-24T05:54:41.804372Z"
    },
    "trusted": true
   },
   "outputs": [
    {
     "data": {
      "image/png": "[encoded data removed]",
      "text/plain": [
       "<Figure size 1200x800 with 5 Axes>"
      ]
     },
     "metadata": {},
     "output_type": "display_data"
    }
   ],
   "source": [
    "fig, ax = plt.subplots(figsize = (12, 8))\n",
    "plt.subplot(2, 2, 1)\n",
    "sns.countplot(x='R', data=train)\n",
    "plt.title('Counts of R in train');\n",
    "plt.subplot(2, 2, 2)\n",
    "sns.countplot(x='R', data=test)\n",
    "plt.title('Counts of R in test');\n",
    "plt.subplot(2, 2, 3)\n",
    "sns.countplot(x='C', data=train)\n",
    "plt.title('Counts of C in train');\n",
    "plt.subplot(2, 2, 4)\n",
    "sns.countplot(x='C', data=test)\n",
    "plt.title('Counts of C in test');"
   ]
  },
  {
   "cell_type": "markdown",
   "metadata": {},
   "source": [
    "`R` and `C` categorical variables have a similar distribution in train and test data."
   ]
  },
  {
   "cell_type": "markdown",
   "metadata": {},
   "source": [
    "Now, let's have a look at one of the series in the data."
   ]
  },
  {
   "cell_type": "code",
   "execution_count": 12,
   "metadata": {
    "execution": {
     "iopub.execute_input": "2021-09-24T05:54:43.845751Z",
     "iopub.status.busy": "2021-09-24T05:54:43.845097Z",
     "iopub.status.idle": "2021-09-24T05:54:44.141027Z",
     "shell.execute_reply": "2021-09-24T05:54:44.140034Z",
     "shell.execute_reply.started": "2021-09-24T05:54:43.845719Z"
    },
    "trusted": true
   },
   "outputs": [
    {
     "data": {
      "image/png": "[encoded data removed]",
      "text/plain": [
       "<Figure size 1200x800 with 2 Axes>"
      ]
     },
     "metadata": {},
     "output_type": "display_data"
    }
   ],
   "source": [
    "fig, ax1 = plt.subplots(figsize = (12, 8))\n",
    "\n",
    "breath_1 = train.loc[train['breath_id'] == 1]\n",
    "ax2 = ax1.twinx()\n",
    "\n",
    "ax1.plot(breath_1['time_step'], breath_1['pressure'], 'r-', label='pressure')\n",
    "ax1.plot(breath_1['time_step'], breath_1['u_in'], 'g-', label='u_in')\n",
    "ax2.plot(breath_1['time_step'], breath_1['u_out'], 'b-', label='u_out')\n",
    "\n",
    "ax1.set_xlabel('Timestep')\n",
    "\n",
    "ax1.legend(loc=(1.1, 0.8))\n",
    "ax2.legend(loc=(1.1, 0.7))\n",
    "plt.show()"
   ]
  },
  {
   "cell_type": "markdown",
   "metadata": {},
   "source": [
    "This is quite interesting: we can see that at first the `pressure` (our target) is rising and then, after the `u_out` becomes equal to 1, it has an abrupt drop. I think it would be useful to create new features based on the behavior of these features."
   ]
  },
  {
   "cell_type": "markdown",
   "metadata": {},
   "source": [
    "## Feature engineering"
   ]
  },
  {
   "cell_type": "code",
   "execution_count": 13,
   "metadata": {
    "execution": {
     "iopub.execute_input": "2021-09-24T05:54:58.788589Z",
     "iopub.status.busy": "2021-09-24T05:54:58.788273Z",
     "iopub.status.idle": "2021-09-24T05:55:29.195096Z",
     "shell.execute_reply": "2021-09-24T05:55:29.194073Z",
     "shell.execute_reply.started": "2021-09-24T05:54:58.788555Z"
    },
    "trusted": true
   },
   "outputs": [],
   "source": [
    "# rewritten calculation of lag features from this notebook: https://www.kaggle.com/patrick0302/add-lag-u-in-as-new-feat\n",
    "# some of ideas from this notebook: https://www.kaggle.com/mst8823/google-brain-lightgbm-baseline\n",
    "train['last_value_u_in'] = train.groupby('breath_id')['u_in'].transform('last')\n",
    "train['u_in_lag1'] = train.groupby('breath_id')['u_in'].shift(1)\n",
    "train['u_out_lag1'] = train.groupby('breath_id')['u_out'].shift(1)\n",
    "train['u_in_lag_back1'] = train.groupby('breath_id')['u_in'].shift(-1)\n",
    "train['u_out_lag_back1'] = train.groupby('breath_id')['u_out'].shift(-1)\n",
    "train['u_in_lag2'] = train.groupby('breath_id')['u_in'].shift(2)\n",
    "train['u_out_lag2'] = train.groupby('breath_id')['u_out'].shift(2)\n",
    "train['u_in_lag_back2'] = train.groupby('breath_id')['u_in'].shift(-2)\n",
    "train['u_out_lag_back2'] = train.groupby('breath_id')['u_out'].shift(-2)\n",
    "train['u_in_lag3'] = train.groupby('breath_id')['u_in'].shift(3)\n",
    "train['u_out_lag3'] = train.groupby('breath_id')['u_out'].shift(3)\n",
    "train['u_in_lag_back3'] = train.groupby('breath_id')['u_in'].shift(-3)\n",
    "train['u_out_lag_back3'] = train.groupby('breath_id')['u_out'].shift(-3)\n",
    "train = train.fillna(0)\n",
    "\n",
    "\n",
    "train['R__C'] = train[\"R\"].astype(str) + '__' + train[\"C\"].astype(str)\n",
    "\n",
    "# max value of u_in and u_out for each breath\n",
    "train['breath_id__u_in__max'] = train.groupby(['breath_id'])['u_in'].transform('max')\n",
    "train['breath_id__u_out__max'] = train.groupby(['breath_id'])['u_out'].transform('max')\n",
    "\n",
    "# difference between consequitive values\n",
    "train['u_in_diff1'] = train['u_in'] - train['u_in_lag1']\n",
    "train['u_out_diff1'] = train['u_out'] - train['u_out_lag1']\n",
    "train['u_in_diff2'] = train['u_in'] - train['u_in_lag2']\n",
    "train['u_out_diff2'] = train['u_out'] - train['u_out_lag2']\n",
    "# from here: https://www.kaggle.com/yasufuminakama/ventilator-pressure-lstm-starter\n",
    "train.loc[train['time_step'] == 0, 'u_in_diff'] = 0\n",
    "train.loc[train['time_step'] == 0, 'u_out_diff'] = 0\n",
    "\n",
    "# difference between the current value of u_in and the max value within the breath\n",
    "train['breath_id__u_in__diffmax'] = train.groupby(['breath_id'])['u_in'].transform('max') - train['u_in']\n",
    "train['breath_id__u_in__diffmean'] = train.groupby(['breath_id'])['u_in'].transform('mean') - train['u_in']\n",
    "\n",
    "# OHE\n",
    "train = train.merge(pd.get_dummies(train['R'], prefix='R'), left_index=True, right_index=True).drop(['R'], axis=1)\n",
    "train = train.merge(pd.get_dummies(train['C'], prefix='C'), left_index=True, right_index=True).drop(['C'], axis=1)\n",
    "train = train.merge(pd.get_dummies(train['R__C'], prefix='R__C'), left_index=True, right_index=True).drop(['R__C'], axis=1)\n",
    "\n",
    "# https://www.kaggle.com/c/ventilator-pressure-prediction/discussion/273974\n",
    "train['u_in_cumsum'] = train.groupby(['breath_id'])['u_in'].cumsum()\n",
    "train['time_step_cumsum'] = train.groupby(['breath_id'])['time_step'].cumsum()"
   ]
  },
  {
   "cell_type": "code",
   "execution_count": 14,
   "metadata": {
    "execution": {
     "iopub.execute_input": "2021-09-24T05:55:29.19696Z",
     "iopub.status.busy": "2021-09-24T05:55:29.196733Z",
     "iopub.status.idle": "2021-09-24T05:55:48.374949Z",
     "shell.execute_reply": "2021-09-24T05:55:48.374015Z",
     "shell.execute_reply.started": "2021-09-24T05:55:29.196934Z"
    },
    "trusted": true
   },
   "outputs": [],
   "source": [
    "# all the same for the test data\n",
    "test['last_value_u_in'] = test.groupby('breath_id')['u_in'].transform('last')\n",
    "test['u_in_lag1'] = test.groupby('breath_id')['u_in'].shift(1)\n",
    "test['u_out_lag1'] = test.groupby('breath_id')['u_out'].shift(1)\n",
    "test['u_in_lag_back1'] = test.groupby('breath_id')['u_in'].shift(-1)\n",
    "test['u_out_lag_back1'] = test.groupby('breath_id')['u_out'].shift(-1)\n",
    "test['u_in_lag2'] = test.groupby('breath_id')['u_in'].shift(2)\n",
    "test['u_out_lag2'] = test.groupby('breath_id')['u_out'].shift(2)\n",
    "test['u_in_lag_back2'] = test.groupby('breath_id')['u_in'].shift(-2)\n",
    "test['u_out_lag_back2'] = test.groupby('breath_id')['u_out'].shift(-2)\n",
    "test['u_in_lag3'] = test.groupby('breath_id')['u_in'].shift(3)\n",
    "test['u_out_lag3'] = test.groupby('breath_id')['u_out'].shift(3)\n",
    "test['u_in_lag_back3'] = test.groupby('breath_id')['u_in'].shift(-3)\n",
    "test['u_out_lag_back3'] = test.groupby('breath_id')['u_out'].shift(-3)\n",
    "test = test.fillna(0)\n",
    "test['R__C'] = test[\"R\"].astype(str) + '__' + test[\"C\"].astype(str)\n",
    "\n",
    "test['breath_id__u_in__max'] = test.groupby(['breath_id'])['u_in'].transform('max')\n",
    "test['breath_id__u_out__max'] = test.groupby(['breath_id'])['u_out'].transform('max')\n",
    "\n",
    "test['u_in_diff1'] = test['u_in'] - test['u_in_lag1']\n",
    "test['u_out_diff1'] = test['u_out'] - test['u_out_lag1']\n",
    "test['u_in_diff2'] = test['u_in'] - test['u_in_lag2']\n",
    "test['u_out_diff2'] = test['u_out'] - test['u_out_lag2']\n",
    "test.loc[test['time_step'] == 0, 'u_in_diff'] = 0\n",
    "test.loc[test['time_step'] == 0, 'u_out_diff'] = 0\n",
    "\n",
    "test['breath_id__u_in__diffmax'] = test.groupby(['breath_id'])['u_in'].transform('max') - test['u_in']\n",
    "test['breath_id__u_in__diffmean'] = test.groupby(['breath_id'])['u_in'].transform('mean') - test['u_in']\n",
    "\n",
    "test = test.merge(pd.get_dummies(test['R'], prefix='R'), left_index=True, right_index=True).drop(['R'], axis=1)\n",
    "test = test.merge(pd.get_dummies(test['C'], prefix='C'), left_index=True, right_index=True).drop(['C'], axis=1)\n",
    "test = test.merge(pd.get_dummies(test['R__C'], prefix='R__C'), left_index=True, right_index=True).drop(['R__C'], axis=1)\n",
    "\n",
    "test['u_in_cumsum'] = test.groupby(['breath_id'])['u_in'].cumsum()\n",
    "test['time_step_cumsum'] = test.groupby(['breath_id'])['time_step'].cumsum()"
   ]
  },
  {
   "cell_type": "code",
   "execution_count": null,
   "metadata": {},
   "outputs": [],
   "source": [
    "from sklearn.ensemble import RandomForestRegressor\n",
    "from sklearn.model_selection import GroupKFold\n",
    "from sklearn import metrics\n",
    "import time\n",
    "\n",
    "# Prepare training data\n",
    "columns = [col for col in test.columns if col not in ['pressure', 'id', 'breath_id']]\n",
    "X = test[columns]\n",
    "y = test['pressure']\n",
    "\n",
    "# Initialize Random Forest parameters\n",
    "params = {\n",
    "    \"n_estimators\": 100,\n",
    "    \"max_depth\": 10,\n",
    "    \"random_state\": 42,\n",
    "}\n",
    "\n",
    "# Cross-validation setup\n",
    "folds = GroupKFold(n_splits=5)\n",
    "models = []\n",
    "scores = []\n",
    "\n",
    "for fold_n, (train_index, valid_index) in enumerate(folds.split(X, y, groups=test['breath_id'])):\n",
    "    print(f'Fold {fold_n} started at {time.ctime()}')\n",
    "    \n",
    "    # Splitting the dataset\n",
    "    X_train, X_valid = X.iloc[train_index], X.iloc[valid_index]\n",
    "    y_train, y_valid = y.iloc[train_index], y.iloc[valid_index]\n",
    "    \n",
    "    # Initialize the Random Forest model\n",
    "    model = RandomForestRegressor(**params)\n",
    "    \n",
    "    # Train the model\n",
    "    model.fit(X_train, y_train)\n",
    "    \n",
    "    # Predict and evaluate\n",
    "    y_pred = model.predict(X_valid)\n",
    "    score = metrics.mean_absolute_error(y_valid, y_pred)\n",
    "    print(f'Fold {fold_n} MAE: {score}')\n",
    "    \n",
    "    # Store the model and score\n",
    "    models.append(model)\n",
    "    scores.append(score)\n",
    "\n",
    "# Summary of results\n",
    "print(\"Cross-validation MAE scores:\", scores)\n",
    "print(\"Mean MAE:\", np.mean(scores))\n"
   ]
  },
  {
   "cell_type": "markdown",
   "metadata": {},
   "source": [
    "## Model training"
   ]
  },
  {
   "cell_type": "code",
   "execution_count": 15,
   "metadata": {
    "execution": {
     "iopub.execute_input": "2021-09-24T05:55:48.37696Z",
     "iopub.status.busy": "2021-09-24T05:55:48.376351Z",
     "iopub.status.idle": "2021-09-24T05:55:49.750756Z",
     "shell.execute_reply": "2021-09-24T05:55:49.750055Z",
     "shell.execute_reply.started": "2021-09-24T05:55:48.376916Z"
    },
    "trusted": true
   },
   "outputs": [],
   "source": [
    "scores = []\n",
    "feature_importance = pd.DataFrame()\n",
    "models = []\n",
    "columns = [col for col in train.columns if col not in ['id', 'breath_id', 'pressure']]\n",
    "X = train[columns]\n",
    "y = train['pressure']"
   ]
  },
  {
   "cell_type": "code",
   "execution_count": 16,
   "metadata": {
    "execution": {
     "iopub.execute_input": "2021-09-24T05:55:49.75803Z",
     "iopub.status.busy": "2021-09-24T05:55:49.757644Z",
     "iopub.status.idle": "2021-09-24T05:55:49.770955Z",
     "shell.execute_reply": "2021-09-24T05:55:49.770326Z",
     "shell.execute_reply.started": "2021-09-24T05:55:49.757992Z"
    },
    "trusted": true
   },
   "outputs": [],
   "source": [
    "params = {'objective': 'regression',\n",
    "          'learning_rate': 0.3,\n",
    "          \"boosting_type\": \"gbdt\",\n",
    "          \"metric\": 'mae',\n",
    "          'n_jobs': -1,\n",
    "          'min_data_in_leaf':32,\n",
    "          'num_leaves':1024,\n",
    "         }"
   ]
  },
  {
   "cell_type": "code",
   "execution_count": null,
   "metadata": {
    "_kg_hide-output": true,
    "execution": {
     "iopub.execute_input": "2021-09-24T05:55:49.772783Z",
     "iopub.status.busy": "2021-09-24T05:55:49.771929Z",
     "iopub.status.idle": "2021-09-24T05:56:19.738488Z",
     "shell.execute_reply": "2021-09-24T05:56:19.737293Z",
     "shell.execute_reply.started": "2021-09-24T05:55:49.772736Z"
    },
    "trusted": true
   },
   "outputs": [],
   "source": [
    "folds = GroupKFold(n_splits=5)\n",
    "for fold_n, (train_index, valid_index) in enumerate(folds.split(train, y, groups=train['breath_id'])):\n",
    "    print(f'Fold {fold_n} started at {time.ctime()}')\n",
    "    X_train, X_valid = X[columns].iloc[train_index], X[columns].iloc[valid_index]\n",
    "    y_train, y_valid = y.iloc[train_index], y.iloc[valid_index]\n",
    "    model = lgb.LGBMRegressor(**params, n_estimators=10000)\n",
    "    model.fit(X_train, y_train, \n",
    "            eval_set=[(X_train, y_train), (X_valid, y_valid)],\n",
    "            verbose=1000, early_stopping_rounds=15)\n",
    "    score = metrics.mean_absolute_error(y_valid, model.predict(X_valid))\n",
    "    \n",
    "    models.append(model)\n",
    "    scores.append(score)\n",
    "\n",
    "    fold_importance = pd.DataFrame()\n",
    "    fold_importance[\"feature\"] = columns\n",
    "    fold_importance[\"importance\"] = model.feature_importances_\n",
    "    fold_importance[\"fold\"] = fold_n + 1\n",
    "    feature_importance = pd.concat([feature_importance, fold_importance], axis=0)\n"
   ]
  },
  {
   "cell_type": "code",
   "execution_count": null,
   "metadata": {
    "execution": {
     "iopub.status.busy": "2021-09-24T05:54:47.331629Z",
     "iopub.status.idle": "2021-09-24T05:54:47.331972Z",
     "shell.execute_reply": "2021-09-24T05:54:47.331815Z",
     "shell.execute_reply.started": "2021-09-24T05:54:47.331793Z"
    },
    "trusted": true
   },
   "outputs": [],
   "source": [
    "print('CV mean score: {0:.4f}, std: {1:.4f}.'.format(np.mean(scores), np.std(scores)))"
   ]
  },
  {
   "cell_type": "code",
   "execution_count": null,
   "metadata": {
    "execution": {
     "iopub.status.busy": "2021-09-24T05:54:47.332864Z",
     "iopub.status.idle": "2021-09-24T05:54:47.333193Z",
     "shell.execute_reply": "2021-09-24T05:54:47.333037Z",
     "shell.execute_reply.started": "2021-09-24T05:54:47.333015Z"
    },
    "trusted": true
   },
   "outputs": [],
   "source": [
    "feature_importance[\"importance\"] /= 5\n",
    "cols = feature_importance[[\"feature\", \"importance\"]].groupby(\"feature\").mean().sort_values(\n",
    "    by=\"importance\", ascending=False)[:50].index\n",
    "\n",
    "best_features = feature_importance.loc[feature_importance.feature.isin(cols)]\n",
    "\n",
    "plt.figure(figsize=(16, 12));\n",
    "sns.barplot(x=\"importance\", y=\"feature\", data=best_features.sort_values(by=\"importance\", ascending=False));\n",
    "plt.title('LGB Features (avg over folds)');"
   ]
  },
  {
   "cell_type": "markdown",
   "metadata": {},
   "source": [
    "## Making predictions"
   ]
  },
  {
   "cell_type": "code",
   "execution_count": 31,
   "metadata": {
    "execution": {
     "iopub.status.busy": "2021-09-24T05:54:47.334156Z",
     "iopub.status.idle": "2021-09-24T05:54:47.334524Z",
     "shell.execute_reply": "2021-09-24T05:54:47.33436Z",
     "shell.execute_reply.started": "2021-09-24T05:54:47.334339Z"
    },
    "trusted": true
   },
   "outputs": [],
   "source": [
    "for model in models:\n",
    "    sub['pressure'] += model.predict(test[columns])\n",
    "sub['pressure'] /= 5"
   ]
  },
  {
   "cell_type": "code",
   "execution_count": 32,
   "metadata": {
    "execution": {
     "iopub.status.busy": "2021-09-24T05:54:47.335252Z",
     "iopub.status.idle": "2021-09-24T05:54:47.335597Z",
     "shell.execute_reply": "2021-09-24T05:54:47.335431Z",
     "shell.execute_reply.started": "2021-09-24T05:54:47.33541Z"
    },
    "trusted": true
   },
   "outputs": [],
   "source": [
    "sub.to_csv('first_sub.csv', index=False)"
   ]
  }
 ],
 "metadata": {
  "kaggle": {
   "accelerator": "none",
   "dataSources": [
    {
     "databundleVersionId": 2408861,
     "sourceId": 29594,
     "sourceType": "competition"
    }
   ],
   "dockerImageVersionId": 30123,
   "isGpuEnabled": false,
   "isInternetEnabled": true,
   "language": "python",
   "sourceType": "notebook"
  },
  "kernelspec": {
   "display_name": ".venv",
   "language": "python",
   "name": "python3"
  },
  "language_info": {
   "codemirror_mode": {
    "name": "ipython",
    "version": 3
   },
   "file_extension": ".py",
   "mimetype": "text/x-python",
   "name": "python",
   "nbconvert_exporter": "python",
   "pygments_lexer": "ipython3",
   "version": "3.13.0"
  }
 },
 "nbformat": 4,
 "nbformat_minor": 4
}
